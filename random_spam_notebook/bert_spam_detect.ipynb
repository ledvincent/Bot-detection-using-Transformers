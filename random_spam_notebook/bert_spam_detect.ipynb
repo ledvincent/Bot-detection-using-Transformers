{
 "cells": [
  {
   "cell_type": "code",
   "execution_count": 4,
   "metadata": {
    "colab": {},
    "colab_type": "code",
    "id": "ZOFQp-Te-BnX"
   },
   "outputs": [],
   "source": [
    "import glob\n",
    "import logging\n",
    "import os\n",
    "import random\n",
    "import json\n",
    "from tqdm import tqdm\n",
    "import re\n",
    "\n",
    "import numpy as np\n",
    "import torch\n",
    "from torch.utils.data import (DataLoader, RandomSampler, SequentialSampler,\n",
    "                              TensorDataset)\n",
    "import random\n",
    "from keras.preprocessing.sequence import pad_sequences\n",
    "from torch.utils.data.distributed import DistributedSampler\n",
    "from tqdm import tqdm_notebook, trange\n",
    "\n",
    "from transformers import (WEIGHTS_NAME, BertConfig, BertForSequenceClassification, BertTokenizer,\n",
    "                                  XLMConfig, XLMForSequenceClassification, XLMTokenizer, \n",
    "                                  XLNetConfig, XLNetForSequenceClassification, XLNetTokenizer,\n",
    "                                  RobertaConfig, RobertaForSequenceClassification, RobertaTokenizer)\n",
    "from transformers import AdamW, get_linear_schedule_with_warmup\n",
    "\n",
    "logging.basicConfig(level=logging.INFO)\n",
    "logger = logging.getLogger(__name__)"
   ]
  },
  {
   "cell_type": "code",
   "execution_count": 5,
   "metadata": {
    "colab": {
     "base_uri": "https://localhost:8080/",
     "height": 34
    },
    "colab_type": "code",
    "executionInfo": {
     "elapsed": 1258,
     "status": "ok",
     "timestamp": 1574151465648,
     "user": {
      "displayName": "Expert System - Lab",
      "photoUrl": "",
      "userId": "16197418968100245121"
     },
     "user_tz": -60
    },
    "id": "CL2SqxXN-Bna",
    "outputId": "53e257f3-8e23-4932-c4e7-ca9eecd62eb8"
   },
   "outputs": [
    {
     "data": {
      "text/plain": [
       "'NVIDIA GeForce RTX 3060 Ti'"
      ]
     },
     "execution_count": 5,
     "metadata": {},
     "output_type": "execute_result"
    }
   ],
   "source": [
    "device = torch.device(\"cuda\" if torch.cuda.is_available() else \"cpu\")\n",
    "n_gpu = torch.cuda.device_count()\n",
    "torch.cuda.get_device_name(0)"
   ]
  },
  {
   "cell_type": "markdown",
   "metadata": {},
   "source": [
    "## Load the dataset\n",
    "\n",
    "can be found here: \"https://huggingface.co/datasets/Deysi/spam-detection-dataset\""
   ]
  },
  {
   "cell_type": "code",
   "execution_count": null,
   "metadata": {
    "colab": {
     "base_uri": "https://localhost:8080/",
     "height": 419
    },
    "colab_type": "code",
    "executionInfo": {
     "elapsed": 2247,
     "status": "ok",
     "timestamp": 1574151506773,
     "user": {
      "displayName": "Expert System - Lab",
      "photoUrl": "",
      "userId": "16197418968100245121"
     },
     "user_tz": -60
    },
    "id": "gYqAtP5M-Bnc",
    "outputId": "4edbf09f-83ac-47bb-8efe-be92ef07d2a3"
   },
   "outputs": [
    {
     "data": {
      "text/html": [
       "<div>\n",
       "<style scoped>\n",
       "    .dataframe tbody tr th:only-of-type {\n",
       "        vertical-align: middle;\n",
       "    }\n",
       "\n",
       "    .dataframe tbody tr th {\n",
       "        vertical-align: top;\n",
       "    }\n",
       "\n",
       "    .dataframe thead th {\n",
       "        text-align: right;\n",
       "    }\n",
       "</style>\n",
       "<table border=\"1\" class=\"dataframe\">\n",
       "  <thead>\n",
       "    <tr style=\"text-align: right;\">\n",
       "      <th></th>\n",
       "      <th>text</th>\n",
       "      <th>label</th>\n",
       "    </tr>\n",
       "  </thead>\n",
       "  <tbody>\n",
       "    <tr>\n",
       "      <th>0</th>\n",
       "      <td>hey I am looking for Xray baggage datasets can...</td>\n",
       "      <td>1</td>\n",
       "    </tr>\n",
       "    <tr>\n",
       "      <th>1</th>\n",
       "      <td>\"Get rich quick! Make millions in just days wi...</td>\n",
       "      <td>0</td>\n",
       "    </tr>\n",
       "    <tr>\n",
       "      <th>2</th>\n",
       "      <td>URGENT MESSAGE: YOU WON'T BELIEVE WHAT WE HAVE...</td>\n",
       "      <td>0</td>\n",
       "    </tr>\n",
       "    <tr>\n",
       "      <th>3</th>\n",
       "      <td>[Google AI Blog: Contributing Data to Deepfake...</td>\n",
       "      <td>1</td>\n",
       "    </tr>\n",
       "    <tr>\n",
       "      <th>4</th>\n",
       "      <td>Trying to see if anyone already has timestamps...</td>\n",
       "      <td>1</td>\n",
       "    </tr>\n",
       "  </tbody>\n",
       "</table>\n",
       "</div>"
      ],
      "text/plain": [
       "                                                text  label\n",
       "0  hey I am looking for Xray baggage datasets can...      1\n",
       "1  \"Get rich quick! Make millions in just days wi...      0\n",
       "2  URGENT MESSAGE: YOU WON'T BELIEVE WHAT WE HAVE...      0\n",
       "3  [Google AI Blog: Contributing Data to Deepfake...      1\n",
       "4  Trying to see if anyone already has timestamps...      1"
      ]
     },
     "execution_count": 7,
     "metadata": {},
     "output_type": "execute_result"
    }
   ],
   "source": [
    "import pandas as pd\n",
    "\n",
    "# Binary format function\n",
    "def to_binary(label):\n",
    "    if label != 'spam':\n",
    "        return 1\n",
    "    else:\n",
    "        return 0\n",
    "\n",
    "def clean_text(text):\n",
    "    text = str(text)\n",
    "    \n",
    "    # 1. Normalize whitespace and newlines\n",
    "    text = re.sub(r'[\\r\\n]+', ' ', text)\n",
    "    text = re.sub(r'\\s+', ' ', text).strip()\n",
    "    \n",
    "    # 2. Remove URLs\n",
    "    text = re.sub(r'http\\S+|www\\S+', '', text)\n",
    "    \n",
    "    return text\n",
    "\n",
    "\n",
    "dataset_file_train=r\"...\\dataset\\train.parquet\"\n",
    "dataset_file_test=r\"...\\dataset\\test.parquet\"\n",
    "\n",
    "train = pd.read_parquet(dataset_file_train)\n",
    "train['label'] = train['label'].apply(to_binary)\n",
    "train['text'] = train['text'].apply(clean_text)\n",
    "\n",
    "test = pd.read_parquet(dataset_file_test)\n",
    "test['label'] = test['label'].apply(to_binary)\n",
    "test['text'] = test['text'].apply(clean_text)\n",
    "\n",
    "train.head()"
   ]
  },
  {
   "cell_type": "code",
   "execution_count": 8,
   "metadata": {},
   "outputs": [
    {
     "name": "stdout",
     "output_type": "stream",
     "text": [
      "Training set size: 8175\n",
      "Test set size: 2725\n"
     ]
    }
   ],
   "source": [
    "print('Training set size:', train.shape[0])\n",
    "print('Test set size:', test.shape[0])"
   ]
  },
  {
   "cell_type": "markdown",
   "metadata": {},
   "source": [
    "### Examples of text"
   ]
  },
  {
   "cell_type": "code",
   "execution_count": 9,
   "metadata": {},
   "outputs": [],
   "source": [
    "def is_spam(x):\n",
    "    if x == 1:\n",
    "        return 'Not spam'\n",
    "    else:\n",
    "        return 'Spam'"
   ]
  },
  {
   "cell_type": "code",
   "execution_count": 10,
   "metadata": {},
   "outputs": [
    {
     "name": "stdout",
     "output_type": "stream",
     "text": [
      "Not spam   :hey I am looking for Xray baggage datasets can you provide me with the same\n",
      "Spam   :\"Get rich quick! Make millions in just days with our new and revolutionary system! Don't miss out on this amazing opportunity!\"\n",
      "Spam   :URGENT MESSAGE: YOU WON'T BELIEVE WHAT WE HAVE TO OFFER!!! Hey you! Yeah, you with the eyes reading this right now. Do you want to be the coolest cat on the block? Do you want to get all the likes, hearts and emojis? Do you want to be ~*POPULAR*~? Well, we have the solution for you. Introducing our brand new feature that will blow your mind and your feed! We can't give away too many details, but let's just say it involves puppies, unicorns, and a drum kit. But wait, there's more! Sign up\n",
      "Not spam   :[Google AI Blog: Contributing Data to Deepfake Detection Research]( &gt;Today \\[September 24, 2019\\], in collaboration with [Jigsaw]( we're announcing the release of a large dataset of visual deepfakes we've produced that has been incorporated into the Technical University of Munich and the University Federico II of Naples’ new FaceForensics [benchmark]( an effort that Google co-sponsors. The incorporation of these data into the FaceForensics video benchmark is in partnership with leading researchers, including [Prof. Matthias Niessner]( [Prof. Luisa Verdoliva]( and the [FaceForensics team]( You can download the data on the [FaceForensics github page](\n",
      "Not spam   :Trying to see if anyone already has timestamps of when key events happened during the presidential debate. For example, what was the hh:mm:ss of the true start/end of the debate. I'm also looking for when candidate X said Y\n",
      "Not spam   :Bridging the gap between artificial intelligence and business analytics, Team Aaruush presents to you, an intuitive workshop on the topic, “**Getting Started with Microsoft Power Bi**” with our esteemed guest, **Ms. Helen Wall**. Ms. Wall is the **founder of Helen Data Design and a certified LinkedIn learning instructor** who is also a designer and developer of business intelligence dashboards and visualizations, supporting many business functions and industries. &amp;#x200B; Tune in to explore the endless possibilities of various components of Power Bi and understand the techniques of integrating analytics tools with other systems for visuals and models. &amp;#x200B; Date : **16th october 2021** Time : **6:30 pm-8:30 pm** Register @ [links.aaruush.org](\n",
      "Not spam   :hi all any good leads on datasets for fuel prices ad fuel consumptions? at least till dec 2021 thanks\n",
      "Not spam   :Hi everyone, For my thesis I'm looking for a daily count of subscribers for a subreddit. [ is great but for whatever reasons it excludes a couple of days which I desperately need to have. Does anybody have any way of finding this out? Thank you!!\n",
      "Not spam   :I'm looking for a large dataset of n-grams (preferably 4-grams or 5-grams, though bigrams or trigrams might also work), in order to get some cooccurrence data. Are there any such datasets (freely) available? Sadly, it looks the Google n-grams datasets ( -- not the more recently released book n-grams) now cost $150 + shipping. I thought I'd heard that Bing also provided n-grams datasets ( but it looks like all the access is through some limited API, so (unless I'm missing something) I can't find all the cooccurrences for a given word X. Are there any other datasets available / am I misunderstanding what Bing provides? Or is my only option to just pony up and pay for the Google data?\n",
      "Spam   :Check out these amazing weight loss pills! They are guaranteed to shed pounds in just days! No need to exercise or eat healthy, just pop a pill and watch the fat melt away! Limited time offer, act now!\n",
      "Spam   :S̵P̷A̵M̸M̵E̷R̵S̶ ̵A̷T̵T̶A̵C̸K̸I̶N̵G̷ ̵O̸N̷ ̶S̵O̸C̵I̸A̵L̷ ̵M̶E̵D̷I̵A̶ Th̶e̷s̷e̵ ̶d̵a̷y̸s\n",
      "Not spam   :Websites such as Zillow and Redfin display this information, but I'm wondering if someone has compiled a dataset containing this information. I recall years ago that a classmate did a project using this data, being able to include a GIS map. Example of the information: #### Price and tax history ##### Price history **Date** **Event** **Price** 10/25/2007 Sold $459,000 (+35%)$252/sqftSource: Public Record 5/6/2005 Sold $340,000 (+30.8%)$186/sqftSource: Public Record 9/28/2001 Sold $260,000 (+3614.3%)$142/sqftSource: Public Record 12/7/1998 Sold $7,000 (-96%)$4/sqftSource: Public Record 8/2/1996 Sold $175,000$96/sqftSource: Public Record\n",
      "Spam   :HEY EVERYONE!!! 👋👋👋 Are you Tired 😴 of boring 😒 posts?? Me too!!! That's why I'm here to spice things up on this app 🌶️🌶️🌶️!!! Are you looking for a way to lose weight 💪🏃‍♀️🥦 and gain muscle 💪💪💪? Do not worry, I have the solution for you!!! 🙌🙌🙌 Introducing the amazing 🤩🤩🤩 diet pills that will make you lose weight in\n",
      "Not spam   :Given the current going-ons was hoping to do some analysis of Use of Force by Police in the US. I found this page on the FBI website:  Which speaks of a program for use of force data collection nationwide. It both says that a pilot program was performed and the data released, and that the program launched on January 1st, 2019 and they'll release data at least twice per year. However, I can't find any data, either from the pilot or the actual data collection which started more than a year ago. Has anyone come across this dataset? Is it a matter of it being hard to find or has the FBI not actually released the data they said they were going to?\n",
      "Spam   :👋HEY THERE, SOCIAL MEDIA FANATICS!💥 It's time to get your 🤳selfie game🤳 on with our amazing platform!💻 🔥Are you tired of boring and low-quality filters on other platforms?🚫 Well, we've got you covered with our latest and greatest filters that will make you look 🔥HOTTER THAN EVER🔥! 🤑And, if you're looking to make some 💰extra cash💰, we've got some great news for you! With our referral program, you can earn up to\n",
      "Spam   :\"Lose weight fast with our miracle pills! No exercise required! Click here to get your bottle now!\"\n",
      "Spam   :\"Get ready to be wow'd, fellow netizens! Our amazing platform has just launched the ultimate tool for boosting your social presence. It's so hot you'll be trending in no time! Don't wait, grab it now and watch the likes roll in. But wait, there's more! Our latest update includes a 10% discount on premium accounts. Now you can enjoy exclusive features that'll make your content stand out from your friends' profiles. Plus, our team of experts will guide you to become the next influencer star! Plus, we have so many exciting content updates that your feed will never be boring again. Check\n",
      "Spam   :$$$ Make Money Quick $$$ Hey there fellow netizens! Are you tired of constantly struggling to make ends meet? Do you dream of being financially free? Well, look no further because I have the perfect solution for you! Introducing the newest and hottest online money-making scheme! All you have to do is sign up, invest a small amount of money upfront, and watch your profits soar! It's so easy, even a child can do it (don't actually let a child do it though, that's illegal). But wait, there's more! Sign up now and receive a FREE e-book on how to make even\n",
      "Spam   :Hey guys, have you heard about the new hot app on the block? It's called InstaSpam and it's taking the social media world by storm! With InstaSpam, you can buy followers and likes so you can become an instant influencer! We guarantee that you'll become the envy of all your friends with our bot-generated followers and fake engagement. Plus, we have super affordable packages that will fit anyone's budget! But wait, there's more! We also offer a premium package where we'll even post fake comments on your behalf. You'll look like a social media superstar in no time!\n",
      "Not spam   :Hello fellow data enthusiasts, apologies if this isn't the right sub. I have access to vast amounts of economic and financial datasets (I'm a broker for CBRE) and have been wanting to write up neat reports to share with my audience and clients. However, my job has taken more and more hours and to balance my time I would like to work with others who enjoy making neat visuals, entertaining stories, and great writeups I could share with my audience and clients. Would pay for the work and co-brand the materials, just wondering if others out there have been in either side of a situation like this and what their thoughts and experiences were :) Great sub!\n"
     ]
    }
   ],
   "source": [
    "for i,comment in enumerate(train['text'].iloc[:20]):\n",
    "    print(f\"{is_spam(train['label'].iloc[i])}   :{comment}\")"
   ]
  },
  {
   "cell_type": "markdown",
   "metadata": {},
   "source": [
    "# Preprocessing"
   ]
  },
  {
   "cell_type": "code",
   "execution_count": 11,
   "metadata": {},
   "outputs": [],
   "source": [
    "model_name = \"BERT\"\n",
    "device = torch.device(\"cuda\" if torch.cuda.is_available() else \"cpu\")\n",
    "\n",
    "if model_name == \"BERT\":\n",
    "    tokenizer = BertTokenizer.from_pretrained('bert-base-uncased', do_lower_case=True)\n",
    "\n",
    "MAX_LEN = 256\n",
    "batch_size = 8\n",
    "\n",
    "# Extract sentences and labels\n",
    "train_texts = train['text'].astype(str).tolist()\n",
    "train_labels = train['label'].astype(int).tolist()\n",
    "\n",
    "test_texts = test['text'].astype(str).tolist()\n",
    "test_labels = test['label'].astype(int).tolist()\n",
    "\n",
    "# Tokenization step (handles special tokens, padding, truncation, and returns tensors)\n",
    "train_encodings = tokenizer(\n",
    "    train_texts,\n",
    "    add_special_tokens=True,       # adds [CLS] and [SEP]\n",
    "    max_length=MAX_LEN,\n",
    "    padding='max_length',\n",
    "    truncation=True,\n",
    "    return_tensors='pt'            # returns PyTorch tensors directly\n",
    ")\n",
    "\n",
    "test_encodings = tokenizer(\n",
    "    test_texts,\n",
    "    add_special_tokens=True,\n",
    "    max_length=MAX_LEN,\n",
    "    padding='max_length',\n",
    "    truncation=True,\n",
    "    return_tensors='pt'\n",
    ")\n",
    "\n",
    "# Extract the input_ids and attention_masks\n",
    "train_input_ids = train_encodings['input_ids']\n",
    "train_attention_masks = train_encodings['attention_mask']\n",
    "\n",
    "test_input_ids = test_encodings['input_ids']\n",
    "test_attention_masks = test_encodings['attention_mask']"
   ]
  },
  {
   "cell_type": "code",
   "execution_count": 12,
   "metadata": {},
   "outputs": [],
   "source": [
    "# Convert labels to tensors\n",
    "train_labels = torch.tensor(train_labels)\n",
    "test_labels = torch.tensor(test_labels)\n",
    "\n",
    "# Create TensorDatasets\n",
    "train_data = TensorDataset(train_input_ids, train_attention_masks, train_labels)\n",
    "test_data = TensorDataset(test_input_ids, test_attention_masks, test_labels)\n",
    "\n",
    "# Create DataLoaders\n",
    "train_sampler = RandomSampler(train_data)\n",
    "train_dataloader = DataLoader(train_data, sampler=train_sampler, batch_size=batch_size)\n",
    "\n",
    "test_sampler = SequentialSampler(test_data)\n",
    "test_dataloader = DataLoader(test_data, sampler=test_sampler, batch_size=batch_size)"
   ]
  },
  {
   "cell_type": "code",
   "execution_count": 13,
   "metadata": {},
   "outputs": [
    {
     "name": "stderr",
     "output_type": "stream",
     "text": [
      "Some weights of BertForSequenceClassification were not initialized from the model checkpoint at bert-base-uncased and are newly initialized: ['classifier.bias', 'classifier.weight']\n",
      "You should probably TRAIN this model on a down-stream task to be able to use it for predictions and inference.\n"
     ]
    },
    {
     "data": {
      "text/plain": [
       "BertForSequenceClassification(\n",
       "  (bert): BertModel(\n",
       "    (embeddings): BertEmbeddings(\n",
       "      (word_embeddings): Embedding(30522, 768, padding_idx=0)\n",
       "      (position_embeddings): Embedding(512, 768)\n",
       "      (token_type_embeddings): Embedding(2, 768)\n",
       "      (LayerNorm): LayerNorm((768,), eps=1e-12, elementwise_affine=True)\n",
       "      (dropout): Dropout(p=0.1, inplace=False)\n",
       "    )\n",
       "    (encoder): BertEncoder(\n",
       "      (layer): ModuleList(\n",
       "        (0-11): 12 x BertLayer(\n",
       "          (attention): BertAttention(\n",
       "            (self): BertSdpaSelfAttention(\n",
       "              (query): Linear(in_features=768, out_features=768, bias=True)\n",
       "              (key): Linear(in_features=768, out_features=768, bias=True)\n",
       "              (value): Linear(in_features=768, out_features=768, bias=True)\n",
       "              (dropout): Dropout(p=0.1, inplace=False)\n",
       "            )\n",
       "            (output): BertSelfOutput(\n",
       "              (dense): Linear(in_features=768, out_features=768, bias=True)\n",
       "              (LayerNorm): LayerNorm((768,), eps=1e-12, elementwise_affine=True)\n",
       "              (dropout): Dropout(p=0.1, inplace=False)\n",
       "            )\n",
       "          )\n",
       "          (intermediate): BertIntermediate(\n",
       "            (dense): Linear(in_features=768, out_features=3072, bias=True)\n",
       "            (intermediate_act_fn): GELUActivation()\n",
       "          )\n",
       "          (output): BertOutput(\n",
       "            (dense): Linear(in_features=3072, out_features=768, bias=True)\n",
       "            (LayerNorm): LayerNorm((768,), eps=1e-12, elementwise_affine=True)\n",
       "            (dropout): Dropout(p=0.1, inplace=False)\n",
       "          )\n",
       "        )\n",
       "      )\n",
       "    )\n",
       "    (pooler): BertPooler(\n",
       "      (dense): Linear(in_features=768, out_features=768, bias=True)\n",
       "      (activation): Tanh()\n",
       "    )\n",
       "  )\n",
       "  (dropout): Dropout(p=0.1, inplace=False)\n",
       "  (classifier): Linear(in_features=768, out_features=2, bias=True)\n",
       ")"
      ]
     },
     "execution_count": 13,
     "metadata": {},
     "output_type": "execute_result"
    }
   ],
   "source": [
    "# Initialize the model\n",
    "if model_name == \"BERT\":\n",
    "    model = BertForSequenceClassification.from_pretrained(\"bert-base-uncased\", num_labels=2)\n",
    "model.to(device)"
   ]
  },
  {
   "cell_type": "markdown",
   "metadata": {},
   "source": [
    "## Fine-Tuning"
   ]
  },
  {
   "cell_type": "code",
   "execution_count": 14,
   "metadata": {
    "colab": {},
    "colab_type": "code",
    "id": "MTLzHL2v-Bnq"
   },
   "outputs": [
    {
     "name": "stderr",
     "output_type": "stream",
     "text": [
      "c:\\Users\\Vincent\\anaconda3\\envs\\m2\\Lib\\site-packages\\transformers\\optimization.py:591: FutureWarning: This implementation of AdamW is deprecated and will be removed in a future version. Use the PyTorch implementation torch.optim.AdamW instead, or set `no_deprecation_warning=True` to disable this warning\n",
      "  warnings.warn(\n"
     ]
    }
   ],
   "source": [
    "param_optimizer = list(model.named_parameters())\n",
    "no_decay = ['bias', 'gamma', 'beta']\n",
    "optimizer_grouped_parameters = [\n",
    "    {'params': [p for n, p in param_optimizer if not any(nd in n for nd in no_decay)],\n",
    "     'weight_decay': 0.01},\n",
    "    {'params': [p for n, p in param_optimizer if any(nd in n for nd in no_decay)],\n",
    "     'weight_decay': 0.0}\n",
    "]\n",
    "\n",
    "optimizer = AdamW(optimizer_grouped_parameters, lr=2e-5)\n",
    "\n",
    "# Function to calculate the accuracy of our predictions vs labels\n",
    "def flat_accuracy(preds, labels):\n",
    "    pred_flat = np.argmax(preds, axis=1).flatten()\n",
    "    labels_flat = labels.flatten()\n",
    "    return np.sum(pred_flat == labels_flat) / len(labels_flat)"
   ]
  },
  {
   "cell_type": "code",
   "execution_count": 15,
   "metadata": {},
   "outputs": [
    {
     "name": "stdout",
     "output_type": "stream",
     "text": [
      "Epoch: 1\n"
     ]
    },
    {
     "name": "stderr",
     "output_type": "stream",
     "text": [
      "Training Epoch 1/2: 100%|██████████| 1022/1022 [03:17<00:00,  5.17it/s]\n"
     ]
    },
    {
     "name": "stdout",
     "output_type": "stream",
     "text": [
      "Train loss: 0.02205227955304341\n",
      "Validation Accuracy: 0.9970674486803519\n",
      "Epoch: 2\n"
     ]
    },
    {
     "name": "stderr",
     "output_type": "stream",
     "text": [
      "Training Epoch 2/2: 100%|██████████| 1022/1022 [03:21<00:00,  5.07it/s]\n"
     ]
    },
    {
     "name": "stdout",
     "output_type": "stream",
     "text": [
      "Train loss: 0.003473739422131134\n",
      "Validation Accuracy: 0.9974340175953079\n"
     ]
    }
   ],
   "source": [
    "# Store our loss and accuracy for plotting\n",
    "train_loss_set = []\n",
    "\n",
    "# Number of training epochs (authors recommend between 2 and 4)\n",
    "epochs = 2\n",
    "\n",
    "for epoch in range(epochs):\n",
    "    print('Epoch:',epoch+1)\n",
    "    model.train()\n",
    "    tr_loss = 0\n",
    "    nb_tr_steps = 0\n",
    "\n",
    "    for step, batch in enumerate(tqdm(train_dataloader, desc=f\"Training Epoch {epoch+1}/{epochs}\")):\n",
    "        b_input_ids, b_input_mask, b_labels = tuple(t.to(device) for t in batch)\n",
    "\n",
    "        # Clear gradients\n",
    "        optimizer.zero_grad()\n",
    "\n",
    "        # Forward pass (modern)\n",
    "        outputs = model(b_input_ids, token_type_ids=None, attention_mask=b_input_mask, labels=b_labels)\n",
    "        loss = outputs.loss\n",
    "        logits = outputs.logits\n",
    "\n",
    "        train_loss_set.append(loss.item())\n",
    "\n",
    "        # Backward pass\n",
    "        loss.backward()\n",
    "\n",
    "        # Update params\n",
    "        optimizer.step()\n",
    "\n",
    "        tr_loss += loss.item()\n",
    "        nb_tr_steps += 1\n",
    "\n",
    "    print(\"Train loss: {}\".format(tr_loss/nb_tr_steps))\n",
    "\n",
    "    # Validation\n",
    "    model.eval()\n",
    "    eval_accuracy = 0\n",
    "    nb_eval_steps = 0\n",
    "\n",
    "    for batch in test_dataloader:\n",
    "        b_input_ids, b_input_mask, b_labels = tuple(t.to(device) for t in batch)\n",
    "        \n",
    "        with torch.no_grad():\n",
    "            outputs = model(b_input_ids, token_type_ids=None, attention_mask=b_input_mask)\n",
    "            logits = outputs.logits\n",
    "        logits = logits.detach().cpu().numpy()\n",
    "        label_ids = b_labels.cpu().numpy()\n",
    "\n",
    "        tmp_eval_accuracy = flat_accuracy(logits, label_ids)\n",
    "        eval_accuracy += tmp_eval_accuracy\n",
    "        nb_eval_steps += 1\n",
    "\n",
    "    print(\"Validation Accuracy: {}\".format(eval_accuracy/nb_eval_steps))"
   ]
  },
  {
   "cell_type": "code",
   "execution_count": 14,
   "metadata": {},
   "outputs": [],
   "source": [
    "# torch.save(model, r\"...\\models\\BERT_model.pt\")"
   ]
  },
  {
   "cell_type": "markdown",
   "metadata": {},
   "source": [
    "# Testing accuracy of this fine-tuned model on a different dataset: Youtube spam comments"
   ]
  },
  {
   "cell_type": "code",
   "execution_count": null,
   "metadata": {},
   "outputs": [
    {
     "name": "stdout",
     "output_type": "stream",
     "text": [
      "Validation Accuracy on youtube comments: 0.5586734693877551\n"
     ]
    }
   ],
   "source": [
    "directory = r\".../youtube/dataset/\"\n",
    "train_youtube = pd.read_csv(directory + \"train.csv\", index_col=0)\n",
    "test_youtube = pd.read_csv(directory + \"test.csv\", index_col=0)\n",
    "all = pd.concat([train_youtube,test_youtube], axis=0)\n",
    "all.rename(columns={'CONTENT':'text','CLASS':'label'}, inplace=True)\n",
    "all['label'] = all['label'].apply(lambda x: 1-x)\n",
    "\n",
    "# Extract sentences and labels\n",
    "all_texts = all['text'].astype(str).tolist()\n",
    "all_labels = all['label'].astype(int).tolist()\n",
    "\n",
    "# Tokenization step (handles special tokens, padding, truncation, and returns tensors)\n",
    "all_encodings = tokenizer(\n",
    "    all_texts,\n",
    "    add_special_tokens=True,       # adds [CLS] and [SEP]\n",
    "    max_length=MAX_LEN,\n",
    "    padding='max_length',\n",
    "    truncation=True,\n",
    "    return_tensors='pt'            # returns PyTorch tensors directly\n",
    ")\n",
    "\n",
    "# Extract the input_ids and attention_masks\n",
    "all_input_ids = all_encodings['input_ids']\n",
    "all_attention_masks = all_encodings['attention_mask']\n",
    "\n",
    "# Convert labels to tensors\n",
    "all_labels = torch.tensor(all_labels)\n",
    "\n",
    "# Create TensorDatasets\n",
    "all_data = TensorDataset(all_input_ids, all_attention_masks, all_labels)\n",
    "# Create DataLoaders\n",
    "all_sampler = RandomSampler(all_data)\n",
    "all_dataloader = DataLoader(all_data, sampler=all_sampler, batch_size=batch_size)\n",
    "\n",
    "# Validation\n",
    "model.eval()\n",
    "eval_accuracy = 0\n",
    "nb_eval_steps = 0\n",
    "\n",
    "for batch in all_dataloader:\n",
    "    b_input_ids, b_input_mask, b_labels = tuple(t.to(device) for t in batch)\n",
    "    \n",
    "    with torch.no_grad():\n",
    "        outputs = model(b_input_ids, token_type_ids=None, attention_mask=b_input_mask)\n",
    "        logits = outputs.logits\n",
    "    logits = logits.detach().cpu().numpy()\n",
    "    label_ids = b_labels.cpu().numpy()\n",
    "\n",
    "    tmp_eval_accuracy = flat_accuracy(logits, label_ids)\n",
    "    eval_accuracy += tmp_eval_accuracy\n",
    "    nb_eval_steps += 1\n",
    "\n",
    "print(\"Validation Accuracy on youtube comments: {}\".format(eval_accuracy/nb_eval_steps))"
   ]
  },
  {
   "cell_type": "markdown",
   "metadata": {},
   "source": [
    "#### Learning curve"
   ]
  },
  {
   "cell_type": "code",
   "execution_count": 36,
   "metadata": {
    "colab": {
     "base_uri": "https://localhost:8080/",
     "height": 513
    },
    "colab_type": "code",
    "executionInfo": {
     "elapsed": 1559,
     "status": "ok",
     "timestamp": 1574081091527,
     "user": {
      "displayName": "Expert System - Lab",
      "photoUrl": "",
      "userId": "16197418968100245121"
     },
     "user_tz": -60
    },
    "id": "kooRWr_n-Bnw",
    "outputId": "95446cb8-a806-4baa-c4f3-155c4eff8ee1"
   },
   "outputs": [
    {
     "data": {
      "image/png": "[encoded data removed]",
      "text/plain": [
       "<Figure size 2000x800 with 1 Axes>"
      ]
     },
     "metadata": {},
     "output_type": "display_data"
    }
   ],
   "source": [
    "import matplotlib.pyplot as plt\n",
    "\n",
    "plt.figure(figsize=(20,8))\n",
    "plt.title(\"Training loss\")\n",
    "plt.xlabel(\"Batch\")\n",
    "plt.ylabel(\"Loss\")\n",
    "plt.plot(train_loss_set)\n",
    "plt.show()"
   ]
  },
  {
   "cell_type": "code",
   "execution_count": null,
   "metadata": {},
   "outputs": [],
   "source": []
  }
 ],
 "metadata": {
  "accelerator": "GPU",
  "colab": {
   "collapsed_sections": [],
   "name": "Bert_bots.ipynb",
   "provenance": []
  },
  "kernelspec": {
   "display_name": "m2",
   "language": "python",
   "name": "python3"
  },
  "language_info": {
   "codemirror_mode": {
    "name": "ipython",
    "version": 3
   },
   "file_extension": ".py",
   "mimetype": "text/x-python",
   "name": "python",
   "nbconvert_exporter": "python",
   "pygments_lexer": "ipython3",
   "version": "3.12.7"
  }
 },
 "nbformat": 4,
 "nbformat_minor": 2
}
