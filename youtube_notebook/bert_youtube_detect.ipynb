{
 "cells": [
  {
   "cell_type": "code",
   "execution_count": 18,
   "metadata": {
    "colab": {},
    "colab_type": "code",
    "id": "ZOFQp-Te-BnX"
   },
   "outputs": [],
   "source": [
    "import glob\n",
    "import logging\n",
    "import os\n",
    "import random\n",
    "import json\n",
    "from tqdm import tqdm\n",
    "import re\n",
    "\n",
    "import numpy as np\n",
    "import torch\n",
    "from torch.utils.data import (DataLoader, RandomSampler, SequentialSampler,\n",
    "                              TensorDataset)\n",
    "import random\n",
    "from keras.preprocessing.sequence import pad_sequences\n",
    "from torch.utils.data.distributed import DistributedSampler\n",
    "from tqdm import tqdm_notebook, trange\n",
    "from sklearn.metrics import classification_report, confusion_matrix\n",
    "\n",
    "from transformers import (WEIGHTS_NAME, BertConfig, BertForSequenceClassification, BertTokenizer,\n",
    "                                  XLMConfig, XLMForSequenceClassification, XLMTokenizer, \n",
    "                                  XLNetConfig, XLNetForSequenceClassification, XLNetTokenizer,\n",
    "                                  RobertaConfig, RobertaForSequenceClassification, RobertaTokenizer)\n",
    "from transformers import AdamW, get_linear_schedule_with_warmup\n",
    "\n",
    "logging.basicConfig(level=logging.INFO)\n",
    "logger = logging.getLogger(__name__)"
   ]
  },
  {
   "cell_type": "code",
   "execution_count": 2,
   "metadata": {
    "colab": {
     "base_uri": "https://localhost:8080/",
     "height": 34
    },
    "colab_type": "code",
    "executionInfo": {
     "elapsed": 1258,
     "status": "ok",
     "timestamp": 1574151465648,
     "user": {
      "displayName": "Expert System - Lab",
      "photoUrl": "",
      "userId": "16197418968100245121"
     },
     "user_tz": -60
    },
    "id": "CL2SqxXN-Bna",
    "outputId": "53e257f3-8e23-4932-c4e7-ca9eecd62eb8"
   },
   "outputs": [
    {
     "data": {
      "text/plain": [
       "'NVIDIA GeForce RTX 3060 Ti'"
      ]
     },
     "execution_count": 2,
     "metadata": {},
     "output_type": "execute_result"
    }
   ],
   "source": [
    "device = torch.device(\"cuda\" if torch.cuda.is_available() else \"cpu\")\n",
    "n_gpu = torch.cuda.device_count()\n",
    "torch.cuda.get_device_name(0)"
   ]
  },
  {
   "cell_type": "markdown",
   "metadata": {},
   "source": [
    "## Load the dataset"
   ]
  },
  {
   "cell_type": "code",
   "execution_count": null,
   "metadata": {
    "colab": {
     "base_uri": "https://localhost:8080/",
     "height": 419
    },
    "colab_type": "code",
    "executionInfo": {
     "elapsed": 2247,
     "status": "ok",
     "timestamp": 1574151506773,
     "user": {
      "displayName": "Expert System - Lab",
      "photoUrl": "",
      "userId": "16197418968100245121"
     },
     "user_tz": -60
    },
    "id": "gYqAtP5M-Bnc",
    "outputId": "4edbf09f-83ac-47bb-8efe-be92ef07d2a3"
   },
   "outputs": [
    {
     "name": "stdout",
     "output_type": "stream",
     "text": [
      "191\n",
      "814\n"
     ]
    },
    {
     "data": {
      "text/html": [
       "<div>\n",
       "<style scoped>\n",
       "    .dataframe tbody tr th:only-of-type {\n",
       "        vertical-align: middle;\n",
       "    }\n",
       "\n",
       "    .dataframe tbody tr th {\n",
       "        vertical-align: top;\n",
       "    }\n",
       "\n",
       "    .dataframe thead th {\n",
       "        text-align: right;\n",
       "    }\n",
       "</style>\n",
       "<table border=\"1\" class=\"dataframe\">\n",
       "  <thead>\n",
       "    <tr style=\"text-align: right;\">\n",
       "      <th></th>\n",
       "      <th>AUTHOR</th>\n",
       "      <th>CONTENT</th>\n",
       "      <th>CLASS</th>\n",
       "    </tr>\n",
       "  </thead>\n",
       "  <tbody>\n",
       "    <tr>\n",
       "      <th>1069</th>\n",
       "      <td>Tan Jia Min</td>\n",
       "      <td>Check out this video on YouTube:..🌈🌈🌈﻿</td>\n",
       "      <td>1</td>\n",
       "    </tr>\n",
       "    <tr>\n",
       "      <th>1345</th>\n",
       "      <td>Durgesh Rathod</td>\n",
       "      <td>fav.﻿</td>\n",
       "      <td>0</td>\n",
       "    </tr>\n",
       "    <tr>\n",
       "      <th>259</th>\n",
       "      <td>The Bibliophile Flautist</td>\n",
       "      <td>Hey everyone, I am a new channel and will post...</td>\n",
       "      <td>1</td>\n",
       "    </tr>\n",
       "    <tr>\n",
       "      <th>1076</th>\n",
       "      <td>2010shevy</td>\n",
       "      <td>Check out this video on YouTube:﻿</td>\n",
       "      <td>1</td>\n",
       "    </tr>\n",
       "    <tr>\n",
       "      <th>60</th>\n",
       "      <td>Eanna Cusack</td>\n",
       "      <td>Im just to check how much views it has﻿</td>\n",
       "      <td>0</td>\n",
       "    </tr>\n",
       "  </tbody>\n",
       "</table>\n",
       "</div>"
      ],
      "text/plain": [
       "                        AUTHOR  \\\n",
       "1069               Tan Jia Min   \n",
       "1345            Durgesh Rathod   \n",
       "259   The Bibliophile Flautist   \n",
       "1076                 2010shevy   \n",
       "60                Eanna Cusack   \n",
       "\n",
       "                                                CONTENT  CLASS  \n",
       "1069             Check out this video on YouTube:..🌈🌈🌈﻿      1  \n",
       "1345                                              fav.﻿      0  \n",
       "259   Hey everyone, I am a new channel and will post...      1  \n",
       "1076                  Check out this video on YouTube:﻿      1  \n",
       "60              Im just to check how much views it has﻿      0  "
      ]
     },
     "execution_count": 3,
     "metadata": {},
     "output_type": "execute_result"
    }
   ],
   "source": [
    "import pandas as pd\n",
    "\n",
    "directory = r\".../youtube/dataset/\"\n",
    "train = pd.read_csv(directory + \"train.csv\", index_col=0)\n",
    "test = pd.read_csv(directory + \"test.csv\", index_col=0)\n",
    "\n",
    "print(np.sum(test[\"CLASS\"]))\n",
    "print(np.sum(train[\"CLASS\"]))\n",
    "\n",
    "train.head()"
   ]
  },
  {
   "cell_type": "code",
   "execution_count": 4,
   "metadata": {},
   "outputs": [
    {
     "name": "stdout",
     "output_type": "stream",
     "text": [
      "Training set size: 1600\n",
      "Test set size: 356\n"
     ]
    }
   ],
   "source": [
    "print('Training set size:', train.shape[0])\n",
    "print('Test set size:', test.shape[0])"
   ]
  },
  {
   "cell_type": "markdown",
   "metadata": {},
   "source": [
    "### Examples of comments"
   ]
  },
  {
   "cell_type": "code",
   "execution_count": 5,
   "metadata": {},
   "outputs": [],
   "source": [
    "def is_spam(x):\n",
    "    if x == 1:\n",
    "        return 'Spam'\n",
    "    else:\n",
    "        return 'Not spam'"
   ]
  },
  {
   "cell_type": "code",
   "execution_count": 6,
   "metadata": {},
   "outputs": [
    {
     "name": "stdout",
     "output_type": "stream",
     "text": [
      "Spam   :Check out this video on YouTube:..🌈🌈🌈﻿\n",
      "Not spam   :fav.﻿\n",
      "Spam   :Hey everyone, I am a new channel and will post videos of book reviews and  music on the flute. Please subscribe if you would enjoy that. Thanks!﻿\n",
      "Spam   :Check out this video on YouTube:﻿\n",
      "Not spam   :Im just to check how much views it has﻿\n",
      "Spam   :plz subscribe to my channel i need subs and if you do i will sub back i  need help﻿\n",
      "Not spam   :Good times ...﻿\n",
      "Not spam   :great song you go katy!﻿\n",
      "Spam   :Check out this video on YouTube:﻿\n",
      "Spam   :Hey guys and girls check out Comedy Recipe for hilarious you tube videos, pranks, and crank calls!\n",
      "Not spam   :And after the video ends, a 13 ft. boa constrictor squeezes her to death.﻿\n",
      "Not spam   :Stop,is a very TOP 1﻿\n",
      "Spam   :Aye homies check out our remix to 50 Cent Your Life Is On The Line we just started our youtube channel and we are all ways working hard, give us some feed back on our latest song on what you guys think if you like show support.﻿\n",
      "Not spam   :I love this song sooooooooooooooo much﻿\n",
      "Not spam   :This is the only video on youtube that get so much views just because we  want to see how much views it has. 1.000.000 every day, I mean, Most people  think a video is popular when it actually gets 1.000.000 views.﻿\n",
      "Not spam   :Still watching this 2 years later? ﻿\n",
      "Not spam   :this fucking song like a&#39;n oreo the only white part is the good 1﻿\n",
      "Spam   :  HI!:D!:) We’ re TWIN MELODY ,17 year old twins :) WE DID SOME COVERS!!WE DID A COVER OF BIRTHDAY BY KATY PERRY!!  PLEASE JUST TAKE 1 SECOND AND WATCH IT!! THANKS,MERCI,GRACIAS,DANKE,OBRIGADO,GRAZIE ….    !!!  &lt;3  XX HAVE A NICE DAY!!:D﻿\n",
      "Not spam   :2:05. Hahahahah ﻿\n",
      "Not spam   :Katy Perry's songs are the best of the songs of women artists.﻿\n"
     ]
    }
   ],
   "source": [
    "for i,comment in enumerate(train['CONTENT'].iloc[:20]):\n",
    "    print(f\"{is_spam(train['CLASS'].iloc[i])}   :{comment}\")"
   ]
  },
  {
   "cell_type": "code",
   "execution_count": 7,
   "metadata": {},
   "outputs": [
    {
     "name": "stdout",
     "output_type": "stream",
     "text": [
      "Spam   :Tan Jia Min\n",
      "Not spam   :Durgesh Rathod\n",
      "Spam   :The Bibliophile Flautist\n",
      "Spam   :2010shevy\n",
      "Not spam   :Eanna Cusack\n",
      "Spam   :themind blasters\n",
      "Not spam   :Matheus Ribeiro\n",
      "Not spam   :bea boots\n",
      "Spam   :Darleen Tran\n",
      "Spam   :Comedy Recipe\n",
      "Not spam   :Justin Chery\n",
      "Not spam   :lol Ippocastano\n",
      "Spam   :CypherBrothers\n",
      "Not spam   :Sonny Carter\n",
      "Not spam   :MrTuizentfloot\n",
      "Not spam   :no honesty\n",
      "Not spam   :Jimmy Hopkins\n",
      "Spam   :TWIN MELODY\n",
      "Not spam   :Kirill Nazarethian\n",
      "Not spam   :Martwy Karas\n",
      "Spam   :Derek Moya\n",
      "Spam   :Whami inc.\n",
      "Spam   :Emilie\n",
      "Not spam   :Peter Wilkes\n",
      "Not spam   :Intan  Nadia\n"
     ]
    }
   ],
   "source": [
    "for i,comment in enumerate(train['AUTHOR'].iloc[:25]):\n",
    "    print(f\"{is_spam(train['CLASS'].iloc[i])}   :{comment}\")"
   ]
  },
  {
   "cell_type": "markdown",
   "metadata": {},
   "source": [
    "# Preprocessing"
   ]
  },
  {
   "cell_type": "code",
   "execution_count": 8,
   "metadata": {},
   "outputs": [
    {
     "name": "stderr",
     "output_type": "stream",
     "text": [
      "Be aware, overflowing tokens are not returned for the setting you have chosen, i.e. sequence pairs with the 'longest_first' truncation strategy. So the returned list will always be empty even if some tokens have been removed.\n",
      "Be aware, overflowing tokens are not returned for the setting you have chosen, i.e. sequence pairs with the 'longest_first' truncation strategy. So the returned list will always be empty even if some tokens have been removed.\n",
      "Be aware, overflowing tokens are not returned for the setting you have chosen, i.e. sequence pairs with the 'longest_first' truncation strategy. So the returned list will always be empty even if some tokens have been removed.\n",
      "Be aware, overflowing tokens are not returned for the setting you have chosen, i.e. sequence pairs with the 'longest_first' truncation strategy. So the returned list will always be empty even if some tokens have been removed.\n",
      "Be aware, overflowing tokens are not returned for the setting you have chosen, i.e. sequence pairs with the 'longest_first' truncation strategy. So the returned list will always be empty even if some tokens have been removed.\n",
      "Be aware, overflowing tokens are not returned for the setting you have chosen, i.e. sequence pairs with the 'longest_first' truncation strategy. So the returned list will always be empty even if some tokens have been removed.\n",
      "Be aware, overflowing tokens are not returned for the setting you have chosen, i.e. sequence pairs with the 'longest_first' truncation strategy. So the returned list will always be empty even if some tokens have been removed.\n",
      "Be aware, overflowing tokens are not returned for the setting you have chosen, i.e. sequence pairs with the 'longest_first' truncation strategy. So the returned list will always be empty even if some tokens have been removed.\n",
      "C:\\Users\\Vincent\\AppData\\Local\\Temp\\ipykernel_18208\\2236002246.py:56: UserWarning: To copy construct from a tensor, it is recommended to use sourceTensor.clone().detach() or sourceTensor.clone().detach().requires_grad_(True), rather than torch.tensor(sourceTensor).\n",
      "  train_labels = torch.tensor(train_labels)\n",
      "C:\\Users\\Vincent\\AppData\\Local\\Temp\\ipykernel_18208\\2236002246.py:57: UserWarning: To copy construct from a tensor, it is recommended to use sourceTensor.clone().detach() or sourceTensor.clone().detach().requires_grad_(True), rather than torch.tensor(sourceTensor).\n",
      "  test_labels = torch.tensor(test_labels)\n"
     ]
    }
   ],
   "source": [
    "model_name = \"BERT\"\n",
    "device = torch.device(\"cuda\" if torch.cuda.is_available() else \"cpu\")\n",
    "\n",
    "if model_name == \"BERT\":\n",
    "    tokenizer = BertTokenizer.from_pretrained('bert-base-uncased', do_lower_case=True)\n",
    "\n",
    "MAX_LEN = 256\n",
    "batch_size = 8\n",
    "\n",
    "# Extract authors, content, and labels\n",
    "train_authors = train['AUTHOR'].astype(str).tolist()\n",
    "train_contents = train['CONTENT'].astype(str).tolist()\n",
    "train_labels = train['CLASS'].astype(int).tolist()\n",
    "\n",
    "test_authors = test['AUTHOR'].astype(str).tolist()\n",
    "test_contents = test['CONTENT'].astype(str).tolist()\n",
    "test_labels = test['CLASS'].astype(int).tolist()\n",
    "\n",
    "# Now tokenize by providing both sequences to the tokenizer\n",
    "# Sequence A: AUTHOR\n",
    "# Sequence B: CONTENT\n",
    "train_encodings = tokenizer(\n",
    "    train_authors,\n",
    "    train_contents,\n",
    "    add_special_tokens=True,\n",
    "    max_length=MAX_LEN,\n",
    "    padding='max_length',\n",
    "    truncation=True,\n",
    "    return_tensors='pt'\n",
    ")\n",
    "\n",
    "test_encodings = tokenizer(\n",
    "    test_authors,\n",
    "    test_contents,\n",
    "    add_special_tokens=True,\n",
    "    max_length=MAX_LEN,\n",
    "    padding='max_length',\n",
    "    truncation=True,\n",
    "    return_tensors='pt'\n",
    ")\n",
    "\n",
    "# Extract input_ids, attention_masks, and token_type_ids\n",
    "train_input_ids = train_encodings['input_ids']\n",
    "train_attention_masks = train_encodings['attention_mask']\n",
    "train_token_type_ids = train_encodings['token_type_ids']\n",
    "\n",
    "test_input_ids = test_encodings['input_ids']\n",
    "test_attention_masks = test_encodings['attention_mask']\n",
    "test_token_type_ids = test_encodings['token_type_ids']\n",
    "\n",
    "# Convert labels to tensors\n",
    "train_labels = torch.tensor(train_labels)\n",
    "test_labels = torch.tensor(test_labels)\n",
    "\n",
    "# Convert labels to tensors\n",
    "train_labels = torch.tensor(train_labels)\n",
    "test_labels = torch.tensor(test_labels)\n",
    "\n",
    "# Create TensorDatasets\n",
    "train_data = TensorDataset(train_input_ids, train_attention_masks, train_token_type_ids, train_labels)\n",
    "test_data = TensorDataset(test_input_ids, test_attention_masks, test_token_type_ids, test_labels)\n",
    "\n",
    "\n",
    "# Create DataLoaders\n",
    "train_sampler = RandomSampler(train_data)\n",
    "train_dataloader = DataLoader(train_data, sampler=train_sampler, batch_size=batch_size)\n",
    "\n",
    "test_sampler = SequentialSampler(test_data)\n",
    "test_dataloader = DataLoader(test_data, sampler=test_sampler, batch_size=batch_size)"
   ]
  },
  {
   "cell_type": "code",
   "execution_count": 9,
   "metadata": {},
   "outputs": [],
   "source": [
    "model_name = \"BERT\"\n",
    "device = torch.device(\"cuda\" if torch.cuda.is_available() else \"cpu\")\n",
    "\n",
    "if model_name == \"BERT\":\n",
    "    tokenizer = BertTokenizer.from_pretrained('bert-base-uncased', do_lower_case=True)\n",
    "\n",
    "MAX_LEN = 256\n",
    "batch_size = 8\n",
    "\n",
    "# Extract only CONTENT and labels, ignoring author this time\n",
    "train_contents2 = train['CONTENT'].astype(str).tolist()\n",
    "train_labels2 = train['CLASS'].astype(int).tolist()\n",
    "\n",
    "test_contents2 = test['CONTENT'].astype(str).tolist()\n",
    "test_labels2 = test['CLASS'].astype(int).tolist()\n",
    "\n",
    "# Tokenize only CONTENT (single sequence)\n",
    "train_encodings2 = tokenizer(\n",
    "    train_contents2,\n",
    "    add_special_tokens=True,\n",
    "    max_length=MAX_LEN,\n",
    "    padding='max_length',\n",
    "    truncation=True,\n",
    "    return_tensors='pt'\n",
    ")\n",
    "\n",
    "test_encodings2 = tokenizer(\n",
    "    test_contents2,\n",
    "    add_special_tokens=True,\n",
    "    max_length=MAX_LEN,\n",
    "    padding='max_length',\n",
    "    truncation=True,\n",
    "    return_tensors='pt'\n",
    ")\n",
    "\n",
    "# Extract input_ids and attention_masks (no token_type_ids needed for single sequence)\n",
    "train_input_ids2 = train_encodings2['input_ids']\n",
    "train_attention_masks2 = train_encodings2['attention_mask']\n",
    "\n",
    "test_input_ids2 = test_encodings2['input_ids']\n",
    "test_attention_masks2 = test_encodings2['attention_mask']\n",
    "\n",
    "# Convert labels to tensors\n",
    "train_labels2 = torch.tensor(train_labels2)\n",
    "test_labels2 = torch.tensor(test_labels2)\n",
    "\n",
    "# Create TensorDatasets (no token_type_ids since we're using single sequence)\n",
    "train_data2 = TensorDataset(train_input_ids2, train_attention_masks2, train_labels2)\n",
    "test_data2 = TensorDataset(test_input_ids2, test_attention_masks2, test_labels2)\n",
    "\n",
    "# Create DataLoaders\n",
    "train_sampler2 = RandomSampler(train_data2)\n",
    "train_dataloader2 = DataLoader(train_data2, sampler=train_sampler2, batch_size=batch_size)\n",
    "\n",
    "test_sampler2 = SequentialSampler(test_data2)\n",
    "test_dataloader2 = DataLoader(test_data2, sampler=test_sampler2, batch_size=batch_size)"
   ]
  },
  {
   "cell_type": "code",
   "execution_count": 10,
   "metadata": {},
   "outputs": [
    {
     "name": "stderr",
     "output_type": "stream",
     "text": [
      "Some weights of BertForSequenceClassification were not initialized from the model checkpoint at bert-base-uncased and are newly initialized: ['classifier.bias', 'classifier.weight']\n",
      "You should probably TRAIN this model on a down-stream task to be able to use it for predictions and inference.\n",
      "Some weights of BertForSequenceClassification were not initialized from the model checkpoint at bert-base-uncased and are newly initialized: ['classifier.bias', 'classifier.weight']\n",
      "You should probably TRAIN this model on a down-stream task to be able to use it for predictions and inference.\n"
     ]
    },
    {
     "data": {
      "text/plain": [
       "BertForSequenceClassification(\n",
       "  (bert): BertModel(\n",
       "    (embeddings): BertEmbeddings(\n",
       "      (word_embeddings): Embedding(30522, 768, padding_idx=0)\n",
       "      (position_embeddings): Embedding(512, 768)\n",
       "      (token_type_embeddings): Embedding(2, 768)\n",
       "      (LayerNorm): LayerNorm((768,), eps=1e-12, elementwise_affine=True)\n",
       "      (dropout): Dropout(p=0.1, inplace=False)\n",
       "    )\n",
       "    (encoder): BertEncoder(\n",
       "      (layer): ModuleList(\n",
       "        (0-11): 12 x BertLayer(\n",
       "          (attention): BertAttention(\n",
       "            (self): BertSdpaSelfAttention(\n",
       "              (query): Linear(in_features=768, out_features=768, bias=True)\n",
       "              (key): Linear(in_features=768, out_features=768, bias=True)\n",
       "              (value): Linear(in_features=768, out_features=768, bias=True)\n",
       "              (dropout): Dropout(p=0.1, inplace=False)\n",
       "            )\n",
       "            (output): BertSelfOutput(\n",
       "              (dense): Linear(in_features=768, out_features=768, bias=True)\n",
       "              (LayerNorm): LayerNorm((768,), eps=1e-12, elementwise_affine=True)\n",
       "              (dropout): Dropout(p=0.1, inplace=False)\n",
       "            )\n",
       "          )\n",
       "          (intermediate): BertIntermediate(\n",
       "            (dense): Linear(in_features=768, out_features=3072, bias=True)\n",
       "            (intermediate_act_fn): GELUActivation()\n",
       "          )\n",
       "          (output): BertOutput(\n",
       "            (dense): Linear(in_features=3072, out_features=768, bias=True)\n",
       "            (LayerNorm): LayerNorm((768,), eps=1e-12, elementwise_affine=True)\n",
       "            (dropout): Dropout(p=0.1, inplace=False)\n",
       "          )\n",
       "        )\n",
       "      )\n",
       "    )\n",
       "    (pooler): BertPooler(\n",
       "      (dense): Linear(in_features=768, out_features=768, bias=True)\n",
       "      (activation): Tanh()\n",
       "    )\n",
       "  )\n",
       "  (dropout): Dropout(p=0.1, inplace=False)\n",
       "  (classifier): Linear(in_features=768, out_features=2, bias=True)\n",
       ")"
      ]
     },
     "execution_count": 10,
     "metadata": {},
     "output_type": "execute_result"
    }
   ],
   "source": [
    "if model_name == \"BERT\":\n",
    "    model = BertForSequenceClassification.from_pretrained(\n",
    "        \"bert-base-uncased\",\n",
    "        num_labels=2,                # Binary classification\n",
    "        output_attentions=False,     # Whether the model returns attentions weights.\n",
    "        output_hidden_states=False   # Whether the model returns all hidden-states.\n",
    "    )\n",
    "\n",
    "model.to(device)\n",
    "\n",
    "if model_name == \"BERT\":\n",
    "    model2 = BertForSequenceClassification.from_pretrained(\n",
    "        \"bert-base-uncased\",\n",
    "        num_labels=2,                # Binary classification\n",
    "        output_attentions=False,     # Whether the model returns attentions weights.\n",
    "        output_hidden_states=False   # Whether the model returns all hidden-states.\n",
    "    )\n",
    "\n",
    "model2.to(device)"
   ]
  },
  {
   "cell_type": "markdown",
   "metadata": {},
   "source": [
    "## Fine-Tuning"
   ]
  },
  {
   "cell_type": "code",
   "execution_count": 12,
   "metadata": {
    "colab": {},
    "colab_type": "code",
    "id": "MTLzHL2v-Bnq"
   },
   "outputs": [],
   "source": [
    "epochs = 3\n",
    "\n",
    "# Optimizer and Scheduler for model1\n",
    "param_optimizer1 = list(model.named_parameters())\n",
    "no_decay1 = ['bias', 'LayerNorm.bias', 'LayerNorm.weight']\n",
    "optimizer_grouped_parameters1 = [\n",
    "    {\n",
    "        'params': [p for n, p in param_optimizer1 if not any(nd in n for nd in no_decay1)],\n",
    "        'weight_decay': 0.01\n",
    "    },\n",
    "    {\n",
    "        'params': [p for n, p in param_optimizer1 if any(nd in n for nd in no_decay1)],\n",
    "        'weight_decay': 0.0\n",
    "    }\n",
    "]\n",
    "optimizer1 = AdamW(optimizer_grouped_parameters1, lr=2e-5, eps=1e-8)\n",
    "\n",
    "# Total number of training steps for model 1\n",
    "total_steps1 = len(train_dataloader) * epochs\n",
    "\n",
    "# Scheduler for model1\n",
    "scheduler1 = get_linear_schedule_with_warmup(\n",
    "    optimizer1,\n",
    "    num_warmup_steps=0,\n",
    "    num_training_steps=total_steps1\n",
    ")\n",
    "\n",
    "# Optimizer and Scheduler for model2\n",
    "param_optimizer2 = list(model2.named_parameters())\n",
    "no_decay2 = ['bias', 'LayerNorm.bias', 'LayerNorm.weight']\n",
    "optimizer_grouped_parameters2 = [\n",
    "    {\n",
    "        'params': [p for n, p in param_optimizer2 if not any(nd in n for nd in no_decay2)],\n",
    "        'weight_decay': 0.01\n",
    "    },\n",
    "    {\n",
    "        'params': [p for n, p in param_optimizer2 if any(nd in n for nd in no_decay2)],\n",
    "        'weight_decay': 0.0\n",
    "    }\n",
    "]\n",
    "optimizer2 = AdamW(optimizer_grouped_parameters2, lr=2e-5, eps=1e-8)\n",
    "\n",
    "# Total number of training steps for model2\n",
    "total_steps2 = len(train_dataloader2) * epochs\n",
    "\n",
    "# Scheduler for model2\n",
    "scheduler2 = get_linear_schedule_with_warmup(\n",
    "    optimizer2,\n",
    "    num_warmup_steps=0,\n",
    "    num_training_steps=total_steps2\n",
    ")\n",
    "\n",
    "# Compute accuracy\n",
    "def flat_accuracy(preds, labels):\n",
    "    pred_flat = np.argmax(preds, axis=1).flatten()\n",
    "    labels_flat = labels.flatten()\n",
    "    return np.sum(pred_flat == labels_flat) / len(labels_flat)"
   ]
  },
  {
   "cell_type": "code",
   "execution_count": 13,
   "metadata": {},
   "outputs": [
    {
     "name": "stdout",
     "output_type": "stream",
     "text": [
      "Epoch 1 / 3\n"
     ]
    },
    {
     "name": "stderr",
     "output_type": "stream",
     "text": [
      "Training model1 (AUTHOR+CONTENT): 100%|██████████| 200/200 [00:39<00:00,  5.12it/s]\n"
     ]
    },
    {
     "name": "stdout",
     "output_type": "stream",
     "text": [
      "\n",
      "  Average training loss for model1: 0.2352\n"
     ]
    },
    {
     "name": "stderr",
     "output_type": "stream",
     "text": [
      "Training model2 (CONTENT only): 100%|██████████| 200/200 [00:58<00:00,  3.41it/s]\n"
     ]
    },
    {
     "name": "stdout",
     "output_type": "stream",
     "text": [
      "\n",
      "  Average training loss for model2: 0.2271\n"
     ]
    },
    {
     "name": "stderr",
     "output_type": "stream",
     "text": [
      "Validating model1: 100%|██████████| 45/45 [00:06<00:00,  7.14it/s]\n"
     ]
    },
    {
     "name": "stdout",
     "output_type": "stream",
     "text": [
      "  Validation Accuracy for model1: 0.9583\n"
     ]
    },
    {
     "name": "stderr",
     "output_type": "stream",
     "text": [
      "Validating model2: 100%|██████████| 45/45 [00:06<00:00,  7.23it/s]\n"
     ]
    },
    {
     "name": "stdout",
     "output_type": "stream",
     "text": [
      "  Validation Accuracy for model2: 0.9556\n",
      "Confusion Matrix for model1:\n",
      "[[162   3]\n",
      " [ 12 179]]\n",
      "Confusion Matrix for model2:\n",
      "[[163   2]\n",
      " [ 14 177]]\n",
      "Epoch 2 / 3\n"
     ]
    },
    {
     "name": "stderr",
     "output_type": "stream",
     "text": [
      "Training model1 (AUTHOR+CONTENT): 100%|██████████| 200/200 [00:59<00:00,  3.39it/s]\n"
     ]
    },
    {
     "name": "stdout",
     "output_type": "stream",
     "text": [
      "\n",
      "  Average training loss for model1: 0.0842\n"
     ]
    },
    {
     "name": "stderr",
     "output_type": "stream",
     "text": [
      "Training model2 (CONTENT only): 100%|██████████| 200/200 [00:59<00:00,  3.36it/s]\n"
     ]
    },
    {
     "name": "stdout",
     "output_type": "stream",
     "text": [
      "\n",
      "  Average training loss for model2: 0.0838\n"
     ]
    },
    {
     "name": "stderr",
     "output_type": "stream",
     "text": [
      "Validating model1: 100%|██████████| 45/45 [00:08<00:00,  5.19it/s]\n"
     ]
    },
    {
     "name": "stdout",
     "output_type": "stream",
     "text": [
      "  Validation Accuracy for model1: 0.9611\n"
     ]
    },
    {
     "name": "stderr",
     "output_type": "stream",
     "text": [
      "Validating model2: 100%|██████████| 45/45 [00:09<00:00,  4.95it/s]\n"
     ]
    },
    {
     "name": "stdout",
     "output_type": "stream",
     "text": [
      "  Validation Accuracy for model2: 0.9639\n",
      "Confusion Matrix for model1:\n",
      "[[162   3]\n",
      " [ 11 180]]\n",
      "Confusion Matrix for model2:\n",
      "[[161   4]\n",
      " [  9 182]]\n",
      "Epoch 3 / 3\n"
     ]
    },
    {
     "name": "stderr",
     "output_type": "stream",
     "text": [
      "Training model1 (AUTHOR+CONTENT): 100%|██████████| 200/200 [01:04<00:00,  3.08it/s]\n"
     ]
    },
    {
     "name": "stdout",
     "output_type": "stream",
     "text": [
      "\n",
      "  Average training loss for model1: 0.0199\n"
     ]
    },
    {
     "name": "stderr",
     "output_type": "stream",
     "text": [
      "Training model2 (CONTENT only): 100%|██████████| 200/200 [01:05<00:00,  3.07it/s]\n"
     ]
    },
    {
     "name": "stdout",
     "output_type": "stream",
     "text": [
      "\n",
      "  Average training loss for model2: 0.0301\n"
     ]
    },
    {
     "name": "stderr",
     "output_type": "stream",
     "text": [
      "Validating model1: 100%|██████████| 45/45 [00:10<00:00,  4.30it/s]\n"
     ]
    },
    {
     "name": "stdout",
     "output_type": "stream",
     "text": [
      "  Validation Accuracy for model1: 0.9611\n"
     ]
    },
    {
     "name": "stderr",
     "output_type": "stream",
     "text": [
      "Validating model2: 100%|██████████| 45/45 [00:07<00:00,  5.66it/s]"
     ]
    },
    {
     "name": "stdout",
     "output_type": "stream",
     "text": [
      "  Validation Accuracy for model2: 0.9667\n",
      "Confusion Matrix for model1:\n",
      "[[161   4]\n",
      " [ 10 181]]\n",
      "Confusion Matrix for model2:\n",
      "[[161   4]\n",
      " [  8 183]]\n"
     ]
    },
    {
     "name": "stderr",
     "output_type": "stream",
     "text": [
      "\n"
     ]
    }
   ],
   "source": [
    "# Initialize lists to store loss and accuracy\n",
    "train_loss_set1 = []\n",
    "train_loss_set2 = []\n",
    "validation_accuracy_set1 = []\n",
    "validation_accuracy_set2 = []\n",
    "\n",
    "# Define number of epochs\n",
    "\n",
    "for epoch in range(epochs):\n",
    "    print(f'Epoch {epoch + 1} / {epochs}')\n",
    "    \n",
    "    # Train model1 (AUTHOR + CONTENT)\n",
    "    model.train()\n",
    "    tr_loss1 = 0\n",
    "    nb_tr_steps1 = 0\n",
    "    \n",
    "    for step, batch in enumerate(tqdm(train_dataloader, desc=\"Training model1 (AUTHOR+CONTENT)\")):\n",
    "        # Unpack the batch and move to device\n",
    "        b_input_ids, b_input_mask, b_token_type_ids, b_labels = tuple(t.to(device) for t in batch)\n",
    "        \n",
    "        # Clear gradients\n",
    "        optimizer1.zero_grad()\n",
    "        \n",
    "        # Forward pass\n",
    "        outputs1 = model(\n",
    "            input_ids=b_input_ids,\n",
    "            attention_mask=b_input_mask,\n",
    "            token_type_ids=b_token_type_ids,\n",
    "            labels=b_labels\n",
    "        )\n",
    "        \n",
    "        loss1 = outputs1.loss\n",
    "        logits1 = outputs1.logits\n",
    "        \n",
    "        # Accumulate loss\n",
    "        train_loss_set1.append(loss1.item())\n",
    "        tr_loss1 += loss1.item()\n",
    "        nb_tr_steps1 += 1\n",
    "        \n",
    "        # Backward pass\n",
    "        loss1.backward()\n",
    "        \n",
    "        # Gradient clipping\n",
    "        torch.nn.utils.clip_grad_norm_(model.parameters(), 1.0)\n",
    "        \n",
    "        # Update parameters and scheduler\n",
    "        optimizer1.step()\n",
    "        scheduler1.step()\n",
    "    \n",
    "    avg_train_loss1 = tr_loss1 / nb_tr_steps1\n",
    "    print(f\"\\n  Average training loss for model1: {avg_train_loss1:.4f}\")\n",
    "    \n",
    "    # Train model2 (CONTENT only)\n",
    "    model2.train()\n",
    "    tr_loss2 = 0\n",
    "    nb_tr_steps2 = 0\n",
    "    \n",
    "    for step, batch in enumerate(tqdm(train_dataloader2, desc=\"Training model2 (CONTENT only)\")):\n",
    "        # Unpack the batch and move to device\n",
    "        b_input_ids2, b_input_mask2, b_labels2 = tuple(t.to(device) for t in batch)\n",
    "        \n",
    "        # Clear gradients\n",
    "        optimizer2.zero_grad()\n",
    "        \n",
    "        # Forward pass\n",
    "        outputs2 = model2(\n",
    "            input_ids=b_input_ids2,\n",
    "            attention_mask=b_input_mask2,\n",
    "            labels=b_labels2\n",
    "        )\n",
    "        \n",
    "        loss2 = outputs2.loss\n",
    "        logits2 = outputs2.logits\n",
    "        \n",
    "        # Accumulate loss\n",
    "        train_loss_set2.append(loss2.item())\n",
    "        tr_loss2 += loss2.item()\n",
    "        nb_tr_steps2 += 1\n",
    "        \n",
    "        # Backward pass\n",
    "        loss2.backward()\n",
    "        \n",
    "        # Gradient clipping\n",
    "        torch.nn.utils.clip_grad_norm_(model2.parameters(), 1.0)\n",
    "        \n",
    "        # Update parameters and scheduler\n",
    "        optimizer2.step()\n",
    "        scheduler2.step()\n",
    "    \n",
    "    avg_train_loss2 = tr_loss2 / nb_tr_steps2\n",
    "    print(f\"\\n  Average training loss for model2: {avg_train_loss2:.4f}\")\n",
    "    \n",
    "    # Validation for model1\n",
    "    model.eval()\n",
    "    eval_accuracy1 = 0\n",
    "    nb_eval_steps1 = 0\n",
    "    predictions1, true_labels1 = [], []\n",
    "    \n",
    "    for batch in tqdm(test_dataloader, desc=\"Validating model1\"):\n",
    "        # Unpack the batch and move to device\n",
    "        b_input_ids, b_input_mask, b_token_type_ids, b_labels = tuple(t.to(device) for t in batch)\n",
    "        \n",
    "        with torch.no_grad():\n",
    "            outputs1 = model(\n",
    "                input_ids=b_input_ids,\n",
    "                attention_mask=b_input_mask,\n",
    "                token_type_ids=b_token_type_ids\n",
    "            )\n",
    "        \n",
    "        logits1 = outputs1.logits\n",
    "        \n",
    "        # Move logits and labels to CPU\n",
    "        logits1 = logits1.detach().cpu().numpy()\n",
    "        label_ids1 = b_labels.cpu().numpy()\n",
    "        \n",
    "        # Calculate accuracy\n",
    "        tmp_eval_accuracy1 = flat_accuracy(logits1, label_ids1)\n",
    "        eval_accuracy1 += tmp_eval_accuracy1\n",
    "        nb_eval_steps1 += 1\n",
    "        \n",
    "        # Collect predictions and true labels for detailed report\n",
    "        predictions1.append(logits1)\n",
    "        true_labels1.append(label_ids1)\n",
    "    \n",
    "    avg_val_accuracy1 = eval_accuracy1 / nb_eval_steps1\n",
    "    validation_accuracy_set1.append(avg_val_accuracy1)\n",
    "    print(f\"  Validation Accuracy for model1: {avg_val_accuracy1:.4f}\")\n",
    "    \n",
    "    # Validation for model2\n",
    "    model2.eval()\n",
    "    eval_accuracy2 = 0\n",
    "    nb_eval_steps2 = 0\n",
    "    predictions2, true_labels2 = [], []\n",
    "    \n",
    "    for batch in tqdm(test_dataloader2, desc=\"Validating model2\"):\n",
    "        # Unpack the batch and move to device\n",
    "        b_input_ids2, b_input_mask2, b_labels2 = tuple(t.to(device) for t in batch)\n",
    "        \n",
    "        with torch.no_grad():\n",
    "            outputs2 = model2(\n",
    "                input_ids=b_input_ids2,\n",
    "                attention_mask=b_input_mask2\n",
    "            )\n",
    "        \n",
    "        logits2 = outputs2.logits\n",
    "        \n",
    "        # Move logits and labels to CPU\n",
    "        logits2 = logits2.detach().cpu().numpy()\n",
    "        label_ids2 = b_labels2.cpu().numpy()\n",
    "        \n",
    "        # Calculate accuracy\n",
    "        tmp_eval_accuracy2 = flat_accuracy(logits2, label_ids2)\n",
    "        eval_accuracy2 += tmp_eval_accuracy2\n",
    "        nb_eval_steps2 += 1\n",
    "        \n",
    "        # Collect predictions and true labels for detailed report\n",
    "        predictions2.append(logits2)\n",
    "        true_labels2.append(label_ids2)\n",
    "    \n",
    "    avg_val_accuracy2 = eval_accuracy2 / nb_eval_steps2\n",
    "    validation_accuracy_set2.append(avg_val_accuracy2)\n",
    "    print(f\"  Validation Accuracy for model2: {avg_val_accuracy2:.4f}\")\n",
    "    \n",
    "    # Classification Report and Confusion Matrix for model1\n",
    "    all_predictions1 = np.concatenate(predictions1, axis=0)\n",
    "    all_true_labels1 = np.concatenate(true_labels1, axis=0)\n",
    "    preds_flat1 = np.argmax(all_predictions1, axis=1).flatten()\n",
    "\n",
    "    print(\"Confusion Matrix for model1:\")\n",
    "    print(confusion_matrix(all_true_labels1, preds_flat1))\n",
    "    \n",
    "    # Classification Report and Confusion Matrix for model2\n",
    "    all_predictions2 = np.concatenate(predictions2, axis=0)\n",
    "    all_true_labels2 = np.concatenate(true_labels2, axis=0)\n",
    "    preds_flat2 = np.argmax(all_predictions2, axis=1).flatten()\n",
    "\n",
    "    print(\"Confusion Matrix for model2:\")\n",
    "    print(confusion_matrix(all_true_labels2, preds_flat2))"
   ]
  },
  {
   "cell_type": "code",
   "execution_count": 25,
   "metadata": {},
   "outputs": [],
   "source": [
    "# torch.save(model, r\"...\\youtube\\models\\BERT_model.pt\")"
   ]
  },
  {
   "cell_type": "markdown",
   "metadata": {},
   "source": [
    "# Testing accuracy of this fine-tuned model on a different dataset: Random spam (multiple sources: email, comments...)"
   ]
  },
  {
   "cell_type": "code",
   "execution_count": null,
   "metadata": {},
   "outputs": [],
   "source": [
    "# Binary format function\n",
    "def to_binary(label):\n",
    "    if label != 'spam':\n",
    "        return 0\n",
    "    else:\n",
    "        return 1\n",
    "\n",
    "def clean_text(text):\n",
    "    text = str(text)\n",
    "    \n",
    "    # 1. Normalize whitespace and newlines\n",
    "    text = re.sub(r'[\\r\\n]+', ' ', text)\n",
    "    text = re.sub(r'\\s+', ' ', text).strip()\n",
    "    \n",
    "    # 2. Remove URLs\n",
    "    text = re.sub(r'http\\S+|www\\S+', '', text)\n",
    "    \n",
    "    return text\n",
    "\n",
    "directory = r\".../spam/dataset/\"\n",
    "train_spam = pd.read_parquet(directory + \"train.parquet\")\n",
    "test_spam = pd.read_parquet(directory + \"test.parquet\")\n",
    "\n",
    "all = pd.concat([train_spam,test_spam], axis=0)\n",
    "all['label'] = all['label'].apply(to_binary)\n",
    "all['text'] = all['text'].apply(clean_text)\n",
    "all.rename(columns={'text':'CONTENT','label':'CLASS'}, inplace=True)"
   ]
  },
  {
   "cell_type": "code",
   "execution_count": 20,
   "metadata": {},
   "outputs": [],
   "source": [
    "# Extract only CONTENT and labels, ignoring author\n",
    "all_contents = all['CONTENT'].astype(str).tolist()\n",
    "all_labels = all['CLASS'].astype(int).tolist()\n",
    "\n",
    "# Tokenize only CONTENT (single sequence)\n",
    "all_encodings = tokenizer(\n",
    "    all_contents,\n",
    "    add_special_tokens=True,\n",
    "    max_length=MAX_LEN,\n",
    "    padding='max_length',\n",
    "    truncation=True,\n",
    "    return_tensors='pt'\n",
    ")\n",
    "\n",
    "# Extract input_ids and attention_masks (no token_type_ids needed for single sequence)\n",
    "all_input_ids = all_encodings['input_ids']\n",
    "all_attention_masks = all_encodings['attention_mask']\n",
    "\n",
    "# Convert labels to tensors\n",
    "all_labels = torch.tensor(all_labels)\n",
    "\n",
    "# Create TensorDatasets (no token_type_ids since we're using single sequence)\n",
    "all_data = TensorDataset(all_input_ids, all_attention_masks, all_labels)\n",
    "\n",
    "# Create DataLoaders\n",
    "all_sampler = RandomSampler(all_data)\n",
    "all_dataloader = DataLoader(all_data, sampler=all_sampler, batch_size=batch_size)"
   ]
  },
  {
   "cell_type": "code",
   "execution_count": 21,
   "metadata": {},
   "outputs": [
    {
     "name": "stdout",
     "output_type": "stream",
     "text": [
      "Validation Accuracy on random spam: 0.5730924431401321\n"
     ]
    }
   ],
   "source": [
    "# Validation\n",
    "model.eval()\n",
    "eval_accuracy = 0\n",
    "nb_eval_steps = 0\n",
    "\n",
    "for batch in all_dataloader:\n",
    "    b_input_ids, b_input_mask, b_labels = tuple(t.to(device) for t in batch)\n",
    "    \n",
    "    with torch.no_grad():\n",
    "        outputs = model2(b_input_ids, token_type_ids=None, attention_mask=b_input_mask)\n",
    "        logits = outputs.logits\n",
    "    logits = logits.detach().cpu().numpy()\n",
    "    label_ids = b_labels.cpu().numpy()\n",
    "\n",
    "    tmp_eval_accuracy = flat_accuracy(logits, label_ids)\n",
    "    eval_accuracy += tmp_eval_accuracy\n",
    "    nb_eval_steps += 1\n",
    "\n",
    "print(\"Validation Accuracy on random spam: {}\".format(eval_accuracy/nb_eval_steps))"
   ]
  },
  {
   "cell_type": "markdown",
   "metadata": {},
   "source": [
    "#### Learning curve"
   ]
  },
  {
   "cell_type": "code",
   "execution_count": 34,
   "metadata": {
    "colab": {
     "base_uri": "https://localhost:8080/",
     "height": 513
    },
    "colab_type": "code",
    "executionInfo": {
     "elapsed": 1559,
     "status": "ok",
     "timestamp": 1574081091527,
     "user": {
      "displayName": "Expert System - Lab",
      "photoUrl": "",
      "userId": "16197418968100245121"
     },
     "user_tz": -60
    },
    "id": "kooRWr_n-Bnw",
    "outputId": "95446cb8-a806-4baa-c4f3-155c4eff8ee1"
   },
   "outputs": [
    {
     "data": {
      "image/png": "[encoded data removed]",
      "text/plain": [
       "<Figure size 2000x800 with 1 Axes>"
      ]
     },
     "metadata": {},
     "output_type": "display_data"
    }
   ],
   "source": [
    "import matplotlib.pyplot as plt\n",
    "\n",
    "plt.figure(figsize=(20,8))\n",
    "plt.title(\"Training loss\")\n",
    "plt.xlabel(\"Batch\")\n",
    "plt.ylabel(\"Loss\")\n",
    "plt.plot(validation_accuracy_set1, color='r', label='Model 1 (AUTHOR+CONTENT)')\n",
    "plt.plot(validation_accuracy_set2, color='b', label='Model 2 (CONTENT)')\n",
    "plt.legend()\n",
    "plt.show()"
   ]
  },
  {
   "cell_type": "code",
   "execution_count": null,
   "metadata": {},
   "outputs": [],
   "source": []
  }
 ],
 "metadata": {
  "accelerator": "GPU",
  "colab": {
   "collapsed_sections": [],
   "name": "Bert_bots.ipynb",
   "provenance": []
  },
  "kernelspec": {
   "display_name": "m2",
   "language": "python",
   "name": "python3"
  },
  "language_info": {
   "codemirror_mode": {
    "name": "ipython",
    "version": 3
   },
   "file_extension": ".py",
   "mimetype": "text/x-python",
   "name": "python",
   "nbconvert_exporter": "python",
   "pygments_lexer": "ipython3",
   "version": "3.12.7"
  }
 },
 "nbformat": 4,
 "nbformat_minor": 2
}
